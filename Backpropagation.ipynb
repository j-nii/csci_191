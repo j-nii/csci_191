{
  "nbformat": 4,
  "nbformat_minor": 0,
  "metadata": {
    "colab": {
      "name": "Backpropagation.ipynb",
      "provenance": [],
      "authorship_tag": "ABX9TyPwFcCpvI3rNkDf47eDYR0n"
    },
    "kernelspec": {
      "name": "python3",
      "display_name": "Python 3"
    },
    "language_info": {
      "name": "python"
    }
  },
  "cells": [
    {
      "cell_type": "code",
      "metadata": {
        "id": "bR5cAWuWWPhB"
      },
      "source": [
        "import math\n",
        "import random"
      ],
      "execution_count": null,
      "outputs": []
    },
    {
      "cell_type": "code",
      "metadata": {
        "id": "EKEb2JVAWU2v"
      },
      "source": [
        "def Y(x, w):\n",
        "  return x[0]*w[0] + x[1]*w[1] + x[2]*w[2]\n",
        "def sigmoid(y):\n",
        "  return 1/(1+math.exp(-y))"
      ],
      "execution_count": null,
      "outputs": []
    },
    {
      "cell_type": "code",
      "metadata": {
        "id": "KJ0MoxqyWV24",
        "colab": {
          "base_uri": "https://localhost:8080/"
        },
        "outputId": "421180c3-cc86-419b-e10c-815dd644e2aa"
      },
      "source": [
        "w1 = (3.19304864, 9.93278091, -4.74659947)\n",
        "w2 = (-1.59451474, 9.97879746, 4.47953684)\n",
        "v1 = (0.32620883, -8.71647388, 8.39004239)\n",
        "data = [ ( (0,0), 0 ), ( (0,1), 1 ), ( (1,0), 1), ( (1,1), 0 ) ]\n",
        "X = [x for x, y in data]\n",
        "x1 = [x1 for x1, x2 in X]\n",
        "x2 = [x2 for x1, x2 in X]\n",
        "random.seed(1)\n",
        "w1 = [random.randint(0, 50) for i in range(3)]\n",
        "w2 = [random.randint(0, 50) for i in range(3)]\n",
        "v1 = [random.randint(0, 50) for i in range(3)]\n",
        "wt1 = w1\n",
        "wt2 = w2\n",
        "vt1 = w1\n",
        "print(w1, w2, v1)\n",
        "print(data, X, x1, x2)"
      ],
      "execution_count": null,
      "outputs": [
        {
          "output_type": "stream",
          "name": "stdout",
          "text": [
            "[8, 36, 48] [4, 16, 7] [31, 48, 28]\n",
            "[((0, 0), 0), ((0, 1), 1), ((1, 0), 1), ((1, 1), 0)] [(0, 0), (0, 1), (1, 0), (1, 1)] [0, 0, 1, 1] [0, 1, 0, 1]\n"
          ]
        }
      ]
    },
    {
      "cell_type": "code",
      "metadata": {
        "colab": {
          "base_uri": "https://localhost:8080/"
        },
        "id": "2E76T4I0Wcij",
        "outputId": "b232b89e-6d08-4ef4-cbc8-01d6a77a2a97"
      },
      "source": [
        "#X = [(1, x1, x2) for x1, x2 in x]\n",
        "#print(X)\n",
        "#print(\"X: \", X)\n",
        "ay = [y for x,y in data]\n",
        "def bp(lr, iter):\n",
        "  z1 = []\n",
        "  z2 = []\n",
        "  Z = [(1, z1, z2) for z1, z2 in zip(z1, z2)]\n",
        "  for i in range(iter):\n",
        "    z1 = [sigmoid(Y(X, w1))]\n",
        "    z2 = [sigmoid(Y(X, w2))]\n",
        "    #pred = sigmoid(Y(v1, Z))\n",
        "    Z = [(1, z1, z2) for z1, z2 in zip(z1, z2)]\n",
        "    print(Z)\n",
        "\n",
        "    y1 = sigmoid(Y(Z, v1))\n",
        "    print(\"y1: \", y1)\n",
        "    dv1 = [lr * ((ay - y1) * z1[i] for i in range(len(z1)))]\n",
        "    dw1 = [lr * ((ay - y1) * v1[i]) * z1[i] * (1 - v1[i]) * x1[i] for i in range(len(x1))]\n",
        "    dw2 = [lr * ((ay - y1) * v1[i]) * z1[i] * (1 - v1[i]) * x2[i] for i in range(len(x2))]\n",
        "    #y1 = [Y(z, v1) for z in Z]\n",
        "    v1 = [v1[i] + dv1[i] for i in range(len(dv1))]\n",
        "    w1 = [w1[i] + dw1 for i in range(len(w1))]\n",
        "    w2 = [w2[i] + dw2 for i in range(len(w2))]\n",
        "  print(v1, w1, w2)\n",
        "\n",
        "pred = [1 if y > 0.5 else 0 for y in y1]\n",
        "print(list(zip(x, pred)))"
      ],
      "execution_count": null,
      "outputs": [
        {
          "output_type": "stream",
          "name": "stdout",
          "text": [
            "[((0, 0), 1), ((0, 1), 1), ((1, 0), 1), ((1, 1), 1)]\n"
          ]
        }
      ]
    },
    {
      "cell_type": "code",
      "metadata": {
        "id": "rrF9hngEWe68",
        "colab": {
          "base_uri": "https://localhost:8080/",
          "height": 283
        },
        "outputId": "37c0ef6a-f58b-4ee7-d049-1dc369379970"
      },
      "source": [
        "bp(1, 4)"
      ],
      "execution_count": null,
      "outputs": [
        {
          "output_type": "error",
          "ename": "UnboundLocalError",
          "evalue": "ignored",
          "traceback": [
            "\u001b[0;31m---------------------------------------------------------------------------\u001b[0m",
            "\u001b[0;31mUnboundLocalError\u001b[0m                         Traceback (most recent call last)",
            "\u001b[0;32m<ipython-input-100-4f3a68f71731>\u001b[0m in \u001b[0;36m<module>\u001b[0;34m()\u001b[0m\n\u001b[0;32m----> 1\u001b[0;31m \u001b[0mbp\u001b[0m\u001b[0;34m(\u001b[0m\u001b[0;36m1\u001b[0m\u001b[0;34m,\u001b[0m \u001b[0;36m4\u001b[0m\u001b[0;34m)\u001b[0m\u001b[0;34m\u001b[0m\u001b[0;34m\u001b[0m\u001b[0m\n\u001b[0m",
            "\u001b[0;32m<ipython-input-99-7ab831b56988>\u001b[0m in \u001b[0;36mbp\u001b[0;34m(lr, iter)\u001b[0m\n\u001b[1;32m      8\u001b[0m   \u001b[0mZ\u001b[0m \u001b[0;34m=\u001b[0m \u001b[0;34m[\u001b[0m\u001b[0;34m(\u001b[0m\u001b[0;36m1\u001b[0m\u001b[0;34m,\u001b[0m \u001b[0mz1\u001b[0m\u001b[0;34m,\u001b[0m \u001b[0mz2\u001b[0m\u001b[0;34m)\u001b[0m \u001b[0;32mfor\u001b[0m \u001b[0mz1\u001b[0m\u001b[0;34m,\u001b[0m \u001b[0mz2\u001b[0m \u001b[0;32min\u001b[0m \u001b[0mzip\u001b[0m\u001b[0;34m(\u001b[0m\u001b[0mz1\u001b[0m\u001b[0;34m,\u001b[0m \u001b[0mz2\u001b[0m\u001b[0;34m)\u001b[0m\u001b[0;34m]\u001b[0m\u001b[0;34m\u001b[0m\u001b[0;34m\u001b[0m\u001b[0m\n\u001b[1;32m      9\u001b[0m   \u001b[0;32mfor\u001b[0m \u001b[0mi\u001b[0m \u001b[0;32min\u001b[0m \u001b[0mrange\u001b[0m\u001b[0;34m(\u001b[0m\u001b[0miter\u001b[0m\u001b[0;34m)\u001b[0m\u001b[0;34m:\u001b[0m\u001b[0;34m\u001b[0m\u001b[0;34m\u001b[0m\u001b[0m\n\u001b[0;32m---> 10\u001b[0;31m     \u001b[0mz1\u001b[0m \u001b[0;34m=\u001b[0m \u001b[0;34m[\u001b[0m\u001b[0msigmoid\u001b[0m\u001b[0;34m(\u001b[0m\u001b[0mY\u001b[0m\u001b[0;34m(\u001b[0m\u001b[0mX\u001b[0m\u001b[0;34m,\u001b[0m \u001b[0mw1\u001b[0m\u001b[0;34m)\u001b[0m\u001b[0;34m)\u001b[0m\u001b[0;34m]\u001b[0m\u001b[0;34m\u001b[0m\u001b[0;34m\u001b[0m\u001b[0m\n\u001b[0m\u001b[1;32m     11\u001b[0m     \u001b[0mz2\u001b[0m \u001b[0;34m=\u001b[0m \u001b[0;34m[\u001b[0m\u001b[0msigmoid\u001b[0m\u001b[0;34m(\u001b[0m\u001b[0mY\u001b[0m\u001b[0;34m(\u001b[0m\u001b[0mX\u001b[0m\u001b[0;34m,\u001b[0m \u001b[0mw2\u001b[0m\u001b[0;34m)\u001b[0m\u001b[0;34m)\u001b[0m\u001b[0;34m]\u001b[0m\u001b[0;34m\u001b[0m\u001b[0;34m\u001b[0m\u001b[0m\n\u001b[1;32m     12\u001b[0m     \u001b[0;31m#pred = sigmoid(Y(v1, Z))\u001b[0m\u001b[0;34m\u001b[0m\u001b[0;34m\u001b[0m\u001b[0;34m\u001b[0m\u001b[0m\n",
            "\u001b[0;31mUnboundLocalError\u001b[0m: local variable 'w1' referenced before assignment"
          ]
        }
      ]
    },
    {
      "cell_type": "code",
      "metadata": {
        "colab": {
          "base_uri": "https://localhost:8080/"
        },
        "id": "0VE_5RHMWe98",
        "outputId": "124fc94d-d6ed-469b-c0e1-8041878b6198"
      },
      "source": [
        ""
      ],
      "execution_count": null,
      "outputs": [
        {
          "output_type": "stream",
          "name": "stdout",
          "text": [
            "[(1, 0.9605718456066229, 0.16874965243320605), (1, 0.17457400953677152, 0.9471010398304239), (1, 0.9999980069243171, 0.9997716226203648), (1, 0.9997704660571543, 0.9999974099209205)]\n"
          ]
        }
      ]
    },
    {
      "cell_type": "code",
      "metadata": {
        "colab": {
          "base_uri": "https://localhost:8080/"
        },
        "id": "N38CofqhWfAv",
        "outputId": "20a63610-0136-43c0-e1e7-140d213bc449"
      },
      "source": [
        ""
      ],
      "execution_count": null,
      "outputs": [
        {
          "output_type": "stream",
          "name": "stdout",
          "text": [
            "[((0, 0), 0), ((0, 1), 1), ((1, 0), 0), ((1, 1), 0)]\n"
          ]
        }
      ]
    },
    {
      "cell_type": "code",
      "metadata": {
        "id": "ZrwpxHgUWfDu"
      },
      "source": [
        ""
      ],
      "execution_count": null,
      "outputs": []
    },
    {
      "cell_type": "code",
      "metadata": {
        "id": "Y__BiSViWfGu"
      },
      "source": [
        ""
      ],
      "execution_count": null,
      "outputs": []
    }
  ]
}
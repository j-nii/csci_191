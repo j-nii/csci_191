{
  "nbformat": 4,
  "nbformat_minor": 0,
  "metadata": {
    "colab": {
      "name": "Untitled1.ipynb",
      "provenance": [],
      "authorship_tag": "ABX9TyMT+iqR+LR7Q2yYY1ouQtKT",
      "include_colab_link": true
    },
    "kernelspec": {
      "name": "python3",
      "display_name": "Python 3"
    },
    "language_info": {
      "name": "python"
    }
  },
  "cells": [
    {
      "cell_type": "markdown",
      "metadata": {
        "id": "view-in-github",
        "colab_type": "text"
      },
      "source": [
        "<a href=\"https://colab.research.google.com/github/j-nii/csci_191/blob/main/Feed_Forward_Network.ipynb\" target=\"_parent\"><img src=\"https://colab.research.google.com/assets/colab-badge.svg\" alt=\"Open In Colab\"/></a>"
      ]
    },
    {
      "cell_type": "code",
      "metadata": {
        "id": "ySeu02Hzn05Q"
      },
      "source": [
        "import math"
      ],
      "execution_count": null,
      "outputs": []
    },
    {
      "cell_type": "code",
      "metadata": {
        "id": "8AhfWbrCoSm7"
      },
      "source": [
        "def Y(X, W):\n",
        "  return sum([x*w for x, w in zip(X, W)])"
      ],
      "execution_count": null,
      "outputs": []
    },
    {
      "cell_type": "code",
      "metadata": {
        "id": "vZZtLZwhHd3A"
      },
      "source": [
        "def sigmoid(y):\n",
        "  return 1/(1+math.exp(-y))"
      ],
      "execution_count": null,
      "outputs": []
    },
    {
      "cell_type": "code",
      "metadata": {
        "id": "IgFhyPJF9yxD"
      },
      "source": [
        "w1 = (3.19304864, 9.93278091, -4.74659947)\n",
        "w2 = (-1.59451474, 9.97879746, 4.47953684)\n",
        "v1 = (0.32620883, -8.71647388, 8.39004239)\n",
        "x = [ (0,0), (0,1), (1,0), (1,1) ]"
      ],
      "execution_count": null,
      "outputs": []
    },
    {
      "cell_type": "code",
      "metadata": {
        "colab": {
          "base_uri": "https://localhost:8080/"
        },
        "id": "G0O5feemOLpt",
        "outputId": "d5dcfbd3-c92e-4329-b07c-f82dfd0b1208"
      },
      "source": [
        "X = [(1, x1, x2) for x1, x2 in x]\n",
        "print(X)"
      ],
      "execution_count": null,
      "outputs": [
        {
          "output_type": "stream",
          "name": "stdout",
          "text": [
            "[(1, 0, 0), (1, 0, 1), (1, 1, 0), (1, 1, 1)]\n"
          ]
        }
      ]
    },
    {
      "cell_type": "code",
      "metadata": {
        "id": "SBeHqu39Dv6-"
      },
      "source": [
        "z1 = [sigmoid(Y(x, w1)) for x in X]\n",
        "z2 = [sigmoid(Y(x, w2)) for x in X]"
      ],
      "execution_count": null,
      "outputs": []
    },
    {
      "cell_type": "code",
      "metadata": {
        "colab": {
          "base_uri": "https://localhost:8080/"
        },
        "id": "4JcbGq94JeX-",
        "outputId": "fafa8129-47f7-4197-9bde-688355ff6212"
      },
      "source": [
        "Z = [(1, z1, z2) for z1, z2 in zip(z1, z2)]\n",
        "print(Z)"
      ],
      "execution_count": null,
      "outputs": [
        {
          "output_type": "stream",
          "name": "stdout",
          "text": [
            "[(1, 0.9605718456066229, 0.16874965243320605), (1, 0.17457400953677152, 0.9471010398304239), (1, 0.9999980069243171, 0.9997716226203648), (1, 0.9997704660571543, 0.9999974099209205)]\n"
          ]
        }
      ]
    },
    {
      "cell_type": "code",
      "metadata": {
        "colab": {
          "base_uri": "https://localhost:8080/"
        },
        "id": "p5zNAn5UJ47f",
        "outputId": "394e0772-ae87-4cce-e345-ae589fa8ac23"
      },
      "source": [
        "y1 = [Y(z, v1) for z in Z]\n",
        "pred = [1 if y > 0.5 else 0 for y in y1]\n",
        "print(list(zip(x, pred)))"
      ],
      "execution_count": null,
      "outputs": [
        {
          "output_type": "stream",
          "name": "stdout",
          "text": [
            "[((0, 0), 0), ((0, 1), 1), ((1, 0), 0), ((1, 1), 0)]\n"
          ]
        }
      ]
    }
  ]
}